{
 "cells": [
  {
   "cell_type": "code",
   "execution_count": 6,
   "id": "ec023390-5b9e-441c-badb-ea2b86649a9e",
   "metadata": {},
   "outputs": [],
   "source": [
    "import openai\n",
    "import os\n",
    "import csv\n",
    "import concurrent.futures\n",
    "from docx import Document\n",
    "import configparser\n",
    "\n",
    "# Load configuration\n",
    "config = configparser.ConfigParser()\n",
    "config.read('config.ini')\n",
    "\n",
    "# Read values from the configuration file\n",
    "openai.api_key = config.get('openai', 'api_key')\n",
    "model_name = config.get('openai', 'model')"
   ]
  },
  {
   "cell_type": "code",
   "execution_count": 7,
   "id": "8b0b1dac-a8de-4e18-acb7-e64627b1b420",
   "metadata": {},
   "outputs": [],
   "source": [
    "def get_ai_response(prompt, system_message) :\n",
    "    print(f\"Getting AI response...{prompt}\")\n",
    "    messages = [{\"role\": \"system\", \"content\": system_message}, {\"role\": \"user\", \"content\": prompt}]\n",
    "    # result = openai.chat.completions.create(model=model, messages=messages, temperature=0.5, max_tokens=1500) \n",
    "    result = openai.chat.completions.create(model=model_name, messages=messages) \n",
    "    print(\"AI response received.\")\n",
    "    return result.choices[0].message.content"
   ]
  },
  {
   "cell_type": "code",
   "execution_count": 8,
   "id": "86d1ef55-fef7-41aa-a3a5-211ac6b1e7a3",
   "metadata": {},
   "outputs": [],
   "source": [
    "def process_input_csv_file(input_csv_file):\n",
    "    print(\"Processing input CSV file...\")\n",
    "    with open(input_csv_file, 'r') as file:\n",
    "        reader = csv.reader(file)\n",
    "        rows = list(reader)\n",
    "    print(\"Input CSV file processed.\")\n",
    "    return rows"
   ]
  },
  {
   "cell_type": "code",
   "execution_count": 9,
   "id": "7bce5b18-b6cb-4650-8d6e-d285b62845f2",
   "metadata": {},
   "outputs": [],
   "source": [
    "def save_response_to_word(response, file_name, folder_name=\"articles\"):\n",
    "    # Ensure the folder exists\n",
    "    if not os.path.exists(folder_name):\n",
    "        os.makedirs(folder_name)\n",
    "\n",
    "    # Create a Word document\n",
    "    doc = Document()\n",
    "    doc.add_paragraph(response)\n",
    "\n",
    "    #处理掉文件命中不允许的特殊字符和最右侧的空格\n",
    "    invalid_chars = '<>:\"/\\\\|?*'\n",
    "    for char in invalid_chars:\n",
    "        file_name = (file_name.replace(char, '')).rstrip()\n",
    "        \n",
    "    # Save the document\n",
    "    file_path = os.path.join(folder_name, f\"{file_name}.docx\")\n",
    "    doc.save(file_path)\n",
    "    print(f\"response saved to {file_path}\")"
   ]
  },
  {
   "cell_type": "code",
   "execution_count": 10,
   "id": "b39fc3b5-c715-44dc-a448-898d65f9d92a",
   "metadata": {},
   "outputs": [],
   "source": [
    "def main(input_file_name,system_message_file):\n",
    "    rows = process_input_csv_file(input_file_name) #read each row of the csv file\n",
    "\n",
    "    print(\"Reading system message file...\")\n",
    "    with open(system_message_file, 'r') as file:\n",
    "        system_message = file.read()\n",
    "    print(\"System message file read.\")\n",
    "\n",
    "    prompts = [row[0] for row in rows if row]  # assuming prompt is on the first column #handle rows that might be empty\n",
    "\n",
    "    print(\"Starting ThreadPoolExecutor...\")\n",
    "    with concurrent.futures.ThreadPoolExecutor(max_workers=2) as executor:\n",
    "        data_for_executor = [(prompt, system_message) for prompt in prompts]\n",
    "        future_to_data = {executor.submit(get_ai_response, prompt, system_prompt): (prompt, system_prompt) for (prompt, system_prompt) in data_for_executor}\n",
    "        for future in concurrent.futures.as_completed(future_to_data):\n",
    "            (prompt, system_prompt) = future_to_data[future]\n",
    "            try:\n",
    "                print(f\"Processing prompt: {prompt}\")\n",
    "                ai_response = future.result()\n",
    "                save_response_to_word(ai_response, prompt)\n",
    "                print(f\"Prompt: {prompt} processed.\")\n",
    "            except Exception as exc:\n",
    "                print(f'Generating output for {prompt} generated an exception: {exc}')\n",
    "    print(\"ThreadPoolExecutor finished.\")\n"
   ]
  },
  {
   "cell_type": "code",
   "execution_count": 11,
   "id": "131f7e22-e6d5-43bc-a274-02a2da05ad70",
   "metadata": {},
   "outputs": [
    {
     "name": "stdout",
     "output_type": "stream",
     "text": [
      "Processing input CSV file...\n",
      "Input CSV file processed.\n",
      "Reading system message file...\n",
      "System message file read.\n",
      "Starting ThreadPoolExecutor...\n",
      "Getting AI response...What is the best way to acquire physical resources and services for an operational plan?      \n",
      "Getting AI response...What are the best resources to help me acquire physical resources and services for an operational plan?     \n",
      "Processing prompt: What are the best resources to help me acquire physical resources and services for an operational plan?     \n",
      "Generating output for What are the best resources to help me acquire physical resources and services for an operational plan?      generated an exception: name 'model' is not defined\n",
      "Processing prompt: What is the best way to acquire physical resources and services for an operational plan?      \n",
      "Generating output for What is the best way to acquire physical resources and services for an operational plan?       generated an exception: name 'model' is not defined\n",
      "ThreadPoolExecutor finished.\n"
     ]
    }
   ],
   "source": [
    "main('input.csv','system_prompt.txt')"
   ]
  },
  {
   "cell_type": "code",
   "execution_count": null,
   "id": "85f345cc-2aad-460b-bd8e-02d486246e72",
   "metadata": {},
   "outputs": [],
   "source": []
  }
 ],
 "metadata": {
  "kernelspec": {
   "display_name": "Python 3 (ipykernel)",
   "language": "python",
   "name": "python3"
  },
  "language_info": {
   "codemirror_mode": {
    "name": "ipython",
    "version": 3
   },
   "file_extension": ".py",
   "mimetype": "text/x-python",
   "name": "python",
   "nbconvert_exporter": "python",
   "pygments_lexer": "ipython3",
   "version": "3.12.0"
  }
 },
 "nbformat": 4,
 "nbformat_minor": 5
}
